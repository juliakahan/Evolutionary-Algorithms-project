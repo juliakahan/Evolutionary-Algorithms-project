{
 "cells": [
  {
   "cell_type": "code",
   "id": "initial_id",
   "metadata": {
    "collapsed": true,
    "ExecuteTime": {
     "end_time": "2024-11-19T21:52:51.202506Z",
     "start_time": "2024-11-19T21:52:51.187413Z"
    }
   },
   "source": [
    "import pandas as pd\n",
    "from sklearn.model_selection import train_test_split\n",
    "from sklearn.preprocessing import StandardScaler\n",
    "from sklearn.ensemble import RandomForestClassifier, GradientBoostingClassifier\n",
    "from sklearn.svm import SVC\n",
    "from sklearn.neighbors import KNeighborsClassifier\n",
    "from sklearn.neural_network import MLPClassifier\n",
    "from sklearn.metrics import accuracy_score, precision_score, recall_score, f1_score\n",
    "\n",
    "import matplotlib.pyplot as plt\n",
    "import seaborn as sns"
   ],
   "outputs": [],
   "execution_count": 104
  },
  {
   "metadata": {
    "ExecuteTime": {
     "end_time": "2024-11-19T21:52:51.414484Z",
     "start_time": "2024-11-19T21:52:51.400868Z"
    }
   },
   "cell_type": "code",
   "source": "data = pd.read_csv('/Users/weronikakahan/PycharmProjects/Evolutionary-Algorithms-project/ela_features_with_classes.csv')",
   "id": "b7273ab42250bd0b",
   "outputs": [],
   "execution_count": 105
  },
  {
   "metadata": {
    "ExecuteTime": {
     "end_time": "2024-11-19T21:52:51.596551Z",
     "start_time": "2024-11-19T21:52:51.590744Z"
    }
   },
   "cell_type": "code",
   "source": "data = data.drop(columns=['Unnamed: 0'])",
   "id": "abde03ad8e5e96ec",
   "outputs": [],
   "execution_count": 106
  },
  {
   "metadata": {
    "ExecuteTime": {
     "end_time": "2024-11-19T21:52:51.784025Z",
     "start_time": "2024-11-19T21:52:51.767923Z"
    }
   },
   "cell_type": "code",
   "source": "data",
   "id": "b7fe3153e773437c",
   "outputs": [
    {
     "data": {
      "text/plain": [
       "              function_class         int       lr2       max  eps_ratio  \\\n",
       "0      separable - separable  335.919376  0.738794  7.837768   0.605606   \n",
       "1      separable - separable  707.810619  0.837691  8.214469   0.705706   \n",
       "2      separable - separable   42.724733  0.804055  8.414653   0.685686   \n",
       "3      separable - separable  124.281372  0.784066  8.046171   0.645646   \n",
       "4      separable - separable  213.391765  0.692768  6.811131   0.565566   \n",
       "...                      ...         ...       ...       ...        ...   \n",
       "1195  moderate - multi-modal  697.042360  0.123601  4.934662   0.965966   \n",
       "1196  moderate - multi-modal -193.536965  0.137761  5.472417   1.006006   \n",
       "1197  moderate - multi-modal  719.922797  0.135642  5.410031   1.006006   \n",
       "1198  moderate - multi-modal  874.140235  0.105563  5.005434   1.006006   \n",
       "1199  moderate - multi-modal  672.087850  0.142060  5.316026   1.006006   \n",
       "\n",
       "          disp       nbc  \n",
       "0     0.781591 -0.483870  \n",
       "1     0.803693 -0.457983  \n",
       "2     0.789202 -0.475196  \n",
       "3     0.795811 -0.479525  \n",
       "4     0.777463 -0.505878  \n",
       "...        ...       ...  \n",
       "1195  0.787379 -0.577647  \n",
       "1196  0.789442 -0.593229  \n",
       "1197  0.814364 -0.589027  \n",
       "1198  0.818904 -0.614149  \n",
       "1199  0.799507 -0.597620  \n",
       "\n",
       "[1200 rows x 7 columns]"
      ],
      "text/html": [
       "<div>\n",
       "<style scoped>\n",
       "    .dataframe tbody tr th:only-of-type {\n",
       "        vertical-align: middle;\n",
       "    }\n",
       "\n",
       "    .dataframe tbody tr th {\n",
       "        vertical-align: top;\n",
       "    }\n",
       "\n",
       "    .dataframe thead th {\n",
       "        text-align: right;\n",
       "    }\n",
       "</style>\n",
       "<table border=\"1\" class=\"dataframe\">\n",
       "  <thead>\n",
       "    <tr style=\"text-align: right;\">\n",
       "      <th></th>\n",
       "      <th>function_class</th>\n",
       "      <th>int</th>\n",
       "      <th>lr2</th>\n",
       "      <th>max</th>\n",
       "      <th>eps_ratio</th>\n",
       "      <th>disp</th>\n",
       "      <th>nbc</th>\n",
       "    </tr>\n",
       "  </thead>\n",
       "  <tbody>\n",
       "    <tr>\n",
       "      <th>0</th>\n",
       "      <td>separable - separable</td>\n",
       "      <td>335.919376</td>\n",
       "      <td>0.738794</td>\n",
       "      <td>7.837768</td>\n",
       "      <td>0.605606</td>\n",
       "      <td>0.781591</td>\n",
       "      <td>-0.483870</td>\n",
       "    </tr>\n",
       "    <tr>\n",
       "      <th>1</th>\n",
       "      <td>separable - separable</td>\n",
       "      <td>707.810619</td>\n",
       "      <td>0.837691</td>\n",
       "      <td>8.214469</td>\n",
       "      <td>0.705706</td>\n",
       "      <td>0.803693</td>\n",
       "      <td>-0.457983</td>\n",
       "    </tr>\n",
       "    <tr>\n",
       "      <th>2</th>\n",
       "      <td>separable - separable</td>\n",
       "      <td>42.724733</td>\n",
       "      <td>0.804055</td>\n",
       "      <td>8.414653</td>\n",
       "      <td>0.685686</td>\n",
       "      <td>0.789202</td>\n",
       "      <td>-0.475196</td>\n",
       "    </tr>\n",
       "    <tr>\n",
       "      <th>3</th>\n",
       "      <td>separable - separable</td>\n",
       "      <td>124.281372</td>\n",
       "      <td>0.784066</td>\n",
       "      <td>8.046171</td>\n",
       "      <td>0.645646</td>\n",
       "      <td>0.795811</td>\n",
       "      <td>-0.479525</td>\n",
       "    </tr>\n",
       "    <tr>\n",
       "      <th>4</th>\n",
       "      <td>separable - separable</td>\n",
       "      <td>213.391765</td>\n",
       "      <td>0.692768</td>\n",
       "      <td>6.811131</td>\n",
       "      <td>0.565566</td>\n",
       "      <td>0.777463</td>\n",
       "      <td>-0.505878</td>\n",
       "    </tr>\n",
       "    <tr>\n",
       "      <th>...</th>\n",
       "      <td>...</td>\n",
       "      <td>...</td>\n",
       "      <td>...</td>\n",
       "      <td>...</td>\n",
       "      <td>...</td>\n",
       "      <td>...</td>\n",
       "      <td>...</td>\n",
       "    </tr>\n",
       "    <tr>\n",
       "      <th>1195</th>\n",
       "      <td>moderate - multi-modal</td>\n",
       "      <td>697.042360</td>\n",
       "      <td>0.123601</td>\n",
       "      <td>4.934662</td>\n",
       "      <td>0.965966</td>\n",
       "      <td>0.787379</td>\n",
       "      <td>-0.577647</td>\n",
       "    </tr>\n",
       "    <tr>\n",
       "      <th>1196</th>\n",
       "      <td>moderate - multi-modal</td>\n",
       "      <td>-193.536965</td>\n",
       "      <td>0.137761</td>\n",
       "      <td>5.472417</td>\n",
       "      <td>1.006006</td>\n",
       "      <td>0.789442</td>\n",
       "      <td>-0.593229</td>\n",
       "    </tr>\n",
       "    <tr>\n",
       "      <th>1197</th>\n",
       "      <td>moderate - multi-modal</td>\n",
       "      <td>719.922797</td>\n",
       "      <td>0.135642</td>\n",
       "      <td>5.410031</td>\n",
       "      <td>1.006006</td>\n",
       "      <td>0.814364</td>\n",
       "      <td>-0.589027</td>\n",
       "    </tr>\n",
       "    <tr>\n",
       "      <th>1198</th>\n",
       "      <td>moderate - multi-modal</td>\n",
       "      <td>874.140235</td>\n",
       "      <td>0.105563</td>\n",
       "      <td>5.005434</td>\n",
       "      <td>1.006006</td>\n",
       "      <td>0.818904</td>\n",
       "      <td>-0.614149</td>\n",
       "    </tr>\n",
       "    <tr>\n",
       "      <th>1199</th>\n",
       "      <td>moderate - multi-modal</td>\n",
       "      <td>672.087850</td>\n",
       "      <td>0.142060</td>\n",
       "      <td>5.316026</td>\n",
       "      <td>1.006006</td>\n",
       "      <td>0.799507</td>\n",
       "      <td>-0.597620</td>\n",
       "    </tr>\n",
       "  </tbody>\n",
       "</table>\n",
       "<p>1200 rows × 7 columns</p>\n",
       "</div>"
      ]
     },
     "execution_count": 107,
     "metadata": {},
     "output_type": "execute_result"
    }
   ],
   "execution_count": 107
  },
  {
   "metadata": {
    "ExecuteTime": {
     "end_time": "2024-11-19T21:52:51.939773Z",
     "start_time": "2024-11-19T21:52:51.930531Z"
    }
   },
   "cell_type": "code",
   "source": "data['function_class'].value_counts()",
   "id": "7dc0a8cd2e038e4b",
   "outputs": [
    {
     "data": {
      "text/plain": [
       "function_class\n",
       "separable - moderate             200\n",
       "separable - ill-conditioned      200\n",
       "separable - multi-modal          200\n",
       "separable - weakly-structured    200\n",
       "separable - separable            150\n",
       "moderate - moderate              100\n",
       "moderate - ill-conditioned       100\n",
       "moderate - multi-modal            50\n",
       "Name: count, dtype: int64"
      ]
     },
     "execution_count": 108,
     "metadata": {},
     "output_type": "execute_result"
    }
   ],
   "execution_count": 108
  },
  {
   "metadata": {
    "ExecuteTime": {
     "end_time": "2024-11-19T21:52:52.141750Z",
     "start_time": "2024-11-19T21:52:52.132510Z"
    }
   },
   "cell_type": "code",
   "source": "data.isna().sum()",
   "id": "f5399baf1140a31d",
   "outputs": [
    {
     "data": {
      "text/plain": [
       "function_class    0\n",
       "int               0\n",
       "lr2               0\n",
       "max               0\n",
       "eps_ratio         0\n",
       "disp              0\n",
       "nbc               0\n",
       "dtype: int64"
      ]
     },
     "execution_count": 109,
     "metadata": {},
     "output_type": "execute_result"
    }
   ],
   "execution_count": 109
  },
  {
   "metadata": {
    "ExecuteTime": {
     "end_time": "2024-11-19T21:52:52.392804Z",
     "start_time": "2024-11-19T21:52:52.377305Z"
    }
   },
   "cell_type": "code",
   "source": [
    "X = data.drop(columns=['function_class'])\n",
    "y = data['function_class']\n",
    "\n",
    "X_train, X_test, y_train, y_test = train_test_split(X, y, test_size=0.2, random_state=42)"
   ],
   "id": "5f9580b4e35a25e6",
   "outputs": [],
   "execution_count": 110
  },
  {
   "metadata": {
    "ExecuteTime": {
     "end_time": "2024-11-19T21:52:53.371812Z",
     "start_time": "2024-11-19T21:52:52.506518Z"
    }
   },
   "cell_type": "code",
   "source": [
    "#check data distubution in different columns to identify outliers\n",
    "plt.figure(figsize=(20, 10))\n",
    "sns.boxplot(data=X)"
   ],
   "id": "5d9398dbfd7fe748",
   "outputs": [
    {
     "data": {
      "text/plain": [
       "<Axes: >"
      ]
     },
     "execution_count": 111,
     "metadata": {},
     "output_type": "execute_result"
    },
    {
     "data": {
      "text/plain": [
       "<Figure size 2000x1000 with 1 Axes>"
      ],
      "image/png": "[encoded data removed]"
     },
     "metadata": {},
     "output_type": "display_data"
    }
   ],
   "execution_count": 111
  },
  {
   "metadata": {},
   "cell_type": "markdown",
   "source": "to discuss if we should remove those outstanding values",
   "id": "ae03f2dca7aff306"
  },
  {
   "metadata": {
    "ExecuteTime": {
     "end_time": "2024-11-19T21:52:53.431997Z",
     "start_time": "2024-11-19T21:52:53.426579Z"
    }
   },
   "cell_type": "code",
   "source": [
    "#scaling data for some models\n",
    "scaler = StandardScaler()"
   ],
   "id": "92c7ed31c6827b4a",
   "outputs": [],
   "execution_count": 112
  },
  {
   "metadata": {
    "ExecuteTime": {
     "end_time": "2024-11-19T21:52:53.497109Z",
     "start_time": "2024-11-19T21:52:53.487011Z"
    }
   },
   "cell_type": "code",
   "source": [
    "X_train_scaled = scaler.fit_transform(X_train)\n",
    "X_test_scaled = scaler.transform(X_test)"
   ],
   "id": "fd3773c70dc380bb",
   "outputs": [],
   "execution_count": 113
  },
  {
   "metadata": {
    "ExecuteTime": {
     "end_time": "2024-11-19T21:52:53.545735Z",
     "start_time": "2024-11-19T21:52:53.537221Z"
    }
   },
   "cell_type": "code",
   "source": "X_train_scaled",
   "id": "1200aa4f03670d7e",
   "outputs": [
    {
     "data": {
      "text/plain": [
       "array([[-0.17214778,  1.14433793, -0.14310572, -0.12676396,  0.46315488,\n",
       "        -0.01017984],\n",
       "       [-0.17190673, -1.24457276, -0.14308939,  0.75915757, -1.18820508,\n",
       "        -0.52102459],\n",
       "       [-0.16036549,  0.23251216, -0.13708201,  1.4678948 ,  0.41901504,\n",
       "         0.23365001],\n",
       "       ...,\n",
       "       [-0.17214952, -1.32558878, -0.14310619, -1.02073933,  2.15813874,\n",
       "        -0.54233595],\n",
       "       [-0.17214924, -0.39233339, -0.14310615, -0.5616709 , -0.11614577,\n",
       "         1.18607024],\n",
       "       [-0.17214948, -1.3403726 , -0.14310619, -1.02879316,  2.04657288,\n",
       "        -0.82091372]])"
      ]
     },
     "execution_count": 114,
     "metadata": {},
     "output_type": "execute_result"
    }
   ],
   "execution_count": 114
  },
  {
   "metadata": {
    "ExecuteTime": {
     "end_time": "2024-11-19T21:52:53.738232Z",
     "start_time": "2024-11-19T21:52:53.730804Z"
    }
   },
   "cell_type": "code",
   "source": "X_test_scaled",
   "id": "2fe5cccb1748dcf7",
   "outputs": [
    {
     "data": {
      "text/plain": [
       "array([[-0.17214901, -0.96256763, -0.14310618, -0.51334791, -0.74216171,\n",
       "        -1.52250066],\n",
       "       [-0.17214912,  0.23765069, -0.14310605, -0.43280958,  0.35527141,\n",
       "         1.75308166],\n",
       "       [-0.17214715,  0.88555986, -0.14310471, -0.02206414, -0.59279958,\n",
       "         0.54574283],\n",
       "       ...,\n",
       "       [-0.16594561, -0.5474495 , -0.14083913,  1.42762564,  1.95086767,\n",
       "         1.18969165],\n",
       "       [-0.17214885, -0.94242148, -0.14310618, -0.50529407, -0.904893  ,\n",
       "        -1.46236905],\n",
       "       [-0.17214954, -0.24935334, -0.14310614, -0.52945557,  0.14644338,\n",
       "         1.0230909 ]])"
      ]
     },
     "execution_count": 115,
     "metadata": {},
     "output_type": "execute_result"
    }
   ],
   "execution_count": 115
  },
  {
   "metadata": {
    "ExecuteTime": {
     "end_time": "2024-11-19T21:52:53.955689Z",
     "start_time": "2024-11-19T21:52:53.946673Z"
    }
   },
   "cell_type": "code",
   "source": "results_df = pd.DataFrame(columns=['Model', 'Accuracy', 'Precision', 'Recall', 'F1 Score'])",
   "id": "45ba661ba027861e",
   "outputs": [],
   "execution_count": 116
  },
  {
   "metadata": {
    "ExecuteTime": {
     "end_time": "2024-11-19T21:52:54.107725Z",
     "start_time": "2024-11-19T21:52:54.098857Z"
    }
   },
   "cell_type": "code",
   "source": [
    "def evaluate_model(model, model_name):\n",
    "    \"\"\" Helper function to evaluate the model and store results \"\"\"\n",
    "    model.fit(X_train_scaled, y_train)\n",
    "    preds = model.predict(X_test_scaled)\n",
    "    accuracy = accuracy_score(y_test, preds)\n",
    "    precision = precision_score(y_test, preds, average='weighted')\n",
    "    recall = recall_score(y_test, preds, average='weighted')\n",
    "    f1 = f1_score(y_test, preds, average='weighted')\n",
    "\n",
    "    return [model_name, accuracy, precision, recall, f1]"
   ],
   "id": "e1ef0f2f0135e3bb",
   "outputs": [],
   "execution_count": 117
  },
  {
   "metadata": {},
   "cell_type": "markdown",
   "source": "Random Forest",
   "id": "c485cef96a3d6039"
  },
  {
   "metadata": {
    "ExecuteTime": {
     "end_time": "2024-11-19T21:52:54.621303Z",
     "start_time": "2024-11-19T21:52:54.121152Z"
    }
   },
   "cell_type": "code",
   "source": [
    "rf = RandomForestClassifier()\n",
    "results_rf = evaluate_model(rf, 'Random Forest')\n",
    "results_df.loc[0] = results_rf"
   ],
   "id": "b806b88b456d7924",
   "outputs": [],
   "execution_count": 118
  },
  {
   "metadata": {
    "ExecuteTime": {
     "end_time": "2024-11-19T21:52:54.688534Z",
     "start_time": "2024-11-19T21:52:54.680174Z"
    }
   },
   "cell_type": "code",
   "source": "results_df.loc[0] = results_rf",
   "id": "11c26dfb9d79e60",
   "outputs": [],
   "execution_count": 119
  },
  {
   "metadata": {},
   "cell_type": "markdown",
   "source": "Support Vector Machine",
   "id": "3f7214b8e62678"
  },
  {
   "metadata": {
    "ExecuteTime": {
     "end_time": "2024-11-19T21:52:54.934025Z",
     "start_time": "2024-11-19T21:52:54.807243Z"
    }
   },
   "cell_type": "code",
   "source": [
    "svm = SVC()\n",
    "results_svm = evaluate_model(svm, 'Support Vector Machine')"
   ],
   "id": "b561ce4490bf69de",
   "outputs": [],
   "execution_count": 120
  },
  {
   "metadata": {
    "ExecuteTime": {
     "end_time": "2024-11-19T21:52:54.965131Z",
     "start_time": "2024-11-19T21:52:54.957011Z"
    }
   },
   "cell_type": "code",
   "source": "results_df.loc[1] = results_svm",
   "id": "6956882e0db70baf",
   "outputs": [],
   "execution_count": 121
  },
  {
   "metadata": {},
   "cell_type": "markdown",
   "source": "K-Nearest Neighbors",
   "id": "148eea4426f4d28b"
  },
  {
   "metadata": {
    "ExecuteTime": {
     "end_time": "2024-11-19T21:52:55.283258Z",
     "start_time": "2024-11-19T21:52:55.119761Z"
    }
   },
   "cell_type": "code",
   "source": [
    "#choose the best number of neighbors\n",
    "neighbors = range(1, 10)\n",
    "accuracy = []\n",
    "for n in neighbors:\n",
    "    knn = KNeighborsClassifier(n_neighbors=n)\n",
    "    knn.fit(X_train_scaled, y_train)\n",
    "    preds = knn.predict(X_test_scaled)\n",
    "    accuracy.append(accuracy_score(y_test, preds))"
   ],
   "id": "7b4da30a1c45f458",
   "outputs": [],
   "execution_count": 122
  },
  {
   "metadata": {
    "ExecuteTime": {
     "end_time": "2024-11-19T21:52:55.337811Z",
     "start_time": "2024-11-19T21:52:55.330269Z"
    }
   },
   "cell_type": "code",
   "source": "accuracy",
   "id": "e01ac3fda59d612a",
   "outputs": [
    {
     "data": {
      "text/plain": [
       "[0.95,\n",
       " 0.9375,\n",
       " 0.95,\n",
       " 0.95,\n",
       " 0.9541666666666667,\n",
       " 0.95,\n",
       " 0.95,\n",
       " 0.95,\n",
       " 0.9583333333333334]"
      ]
     },
     "execution_count": 123,
     "metadata": {},
     "output_type": "execute_result"
    }
   ],
   "execution_count": 123
  },
  {
   "metadata": {
    "ExecuteTime": {
     "end_time": "2024-11-19T21:52:55.554471Z",
     "start_time": "2024-11-19T21:52:55.513235Z"
    }
   },
   "cell_type": "code",
   "source": [
    "knn = KNeighborsClassifier()\n",
    "results_knn= evaluate_model(knn, 'K-Nearest Neighbors')"
   ],
   "id": "84df0cc129a20e25",
   "outputs": [],
   "execution_count": 124
  },
  {
   "metadata": {
    "ExecuteTime": {
     "end_time": "2024-11-19T21:52:55.675832Z",
     "start_time": "2024-11-19T21:52:55.666512Z"
    }
   },
   "cell_type": "code",
   "source": "results_df.loc[2] = results_knn",
   "id": "4be14777146ae717",
   "outputs": [],
   "execution_count": 125
  },
  {
   "metadata": {},
   "cell_type": "markdown",
   "source": "Gradient Boosting",
   "id": "1fab21be931d766c"
  },
  {
   "metadata": {
    "ExecuteTime": {
     "end_time": "2024-11-19T21:52:58.454365Z",
     "start_time": "2024-11-19T21:52:56.022708Z"
    }
   },
   "cell_type": "code",
   "source": [
    "gb = GradientBoostingClassifier()\n",
    "results_gb = evaluate_model(gb, 'Gradient Boosting')"
   ],
   "id": "96f0198a29a31bfd",
   "outputs": [],
   "execution_count": 126
  },
  {
   "metadata": {
    "ExecuteTime": {
     "end_time": "2024-11-19T21:52:58.476876Z",
     "start_time": "2024-11-19T21:52:58.467293Z"
    }
   },
   "cell_type": "code",
   "source": "results_df.loc[3] = results_gb",
   "id": "94ba1c76a4c2cc96",
   "outputs": [],
   "execution_count": 127
  },
  {
   "metadata": {},
   "cell_type": "markdown",
   "source": "Neural Network (MLP Classifier)",
   "id": "ef1d36fcbb15d303"
  },
  {
   "metadata": {
    "ExecuteTime": {
     "end_time": "2024-11-19T21:52:58.513875Z",
     "start_time": "2024-11-19T21:52:58.510017Z"
    }
   },
   "cell_type": "code",
   "source": "#TODO: MLP does not converge, need to tune hyperparameters",
   "id": "8052b52805aa27a3",
   "outputs": [],
   "execution_count": 128
  },
  {
   "metadata": {
    "ExecuteTime": {
     "end_time": "2024-11-19T21:53:00.140572Z",
     "start_time": "2024-11-19T21:53:00.127425Z"
    }
   },
   "cell_type": "code",
   "source": "results_df",
   "id": "399119f860dd789",
   "outputs": [
    {
     "data": {
      "text/plain": [
       "                    Model  Accuracy  Precision    Recall  F1 Score\n",
       "0           Random Forest  0.975000   0.975386  0.975000  0.974948\n",
       "1  Support Vector Machine  0.854167   0.868770  0.854167  0.856320\n",
       "2     K-Nearest Neighbors  0.954167   0.955471  0.954167  0.954043\n",
       "3       Gradient Boosting  0.966667   0.967180  0.966667  0.966542"
      ],
      "text/html": [
       "<div>\n",
       "<style scoped>\n",
       "    .dataframe tbody tr th:only-of-type {\n",
       "        vertical-align: middle;\n",
       "    }\n",
       "\n",
       "    .dataframe tbody tr th {\n",
       "        vertical-align: top;\n",
       "    }\n",
       "\n",
       "    .dataframe thead th {\n",
       "        text-align: right;\n",
       "    }\n",
       "</style>\n",
       "<table border=\"1\" class=\"dataframe\">\n",
       "  <thead>\n",
       "    <tr style=\"text-align: right;\">\n",
       "      <th></th>\n",
       "      <th>Model</th>\n",
       "      <th>Accuracy</th>\n",
       "      <th>Precision</th>\n",
       "      <th>Recall</th>\n",
       "      <th>F1 Score</th>\n",
       "    </tr>\n",
       "  </thead>\n",
       "  <tbody>\n",
       "    <tr>\n",
       "      <th>0</th>\n",
       "      <td>Random Forest</td>\n",
       "      <td>0.975000</td>\n",
       "      <td>0.975386</td>\n",
       "      <td>0.975000</td>\n",
       "      <td>0.974948</td>\n",
       "    </tr>\n",
       "    <tr>\n",
       "      <th>1</th>\n",
       "      <td>Support Vector Machine</td>\n",
       "      <td>0.854167</td>\n",
       "      <td>0.868770</td>\n",
       "      <td>0.854167</td>\n",
       "      <td>0.856320</td>\n",
       "    </tr>\n",
       "    <tr>\n",
       "      <th>2</th>\n",
       "      <td>K-Nearest Neighbors</td>\n",
       "      <td>0.954167</td>\n",
       "      <td>0.955471</td>\n",
       "      <td>0.954167</td>\n",
       "      <td>0.954043</td>\n",
       "    </tr>\n",
       "    <tr>\n",
       "      <th>3</th>\n",
       "      <td>Gradient Boosting</td>\n",
       "      <td>0.966667</td>\n",
       "      <td>0.967180</td>\n",
       "      <td>0.966667</td>\n",
       "      <td>0.966542</td>\n",
       "    </tr>\n",
       "  </tbody>\n",
       "</table>\n",
       "</div>"
      ]
     },
     "execution_count": 129,
     "metadata": {},
     "output_type": "execute_result"
    }
   ],
   "execution_count": 129
  }
 ],
 "metadata": {
  "kernelspec": {
   "display_name": "Python 3",
   "language": "python",
   "name": "python3"
  },
  "language_info": {
   "codemirror_mode": {
    "name": "ipython",
    "version": 2
   },
   "file_extension": ".py",
   "mimetype": "text/x-python",
   "name": "python",
   "nbconvert_exporter": "python",
   "pygments_lexer": "ipython2",
   "version": "2.7.6"
  }
 },
 "nbformat": 4,
 "nbformat_minor": 5
}
